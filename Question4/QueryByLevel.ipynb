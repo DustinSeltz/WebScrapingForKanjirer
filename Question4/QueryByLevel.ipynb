{
 "cells": [
  {
   "cell_type": "code",
   "execution_count": 1,
   "metadata": {},
   "outputs": [],
   "source": [
    "NAME = \"Dustin Seltz\""
   ]
  },
  {
   "cell_type": "markdown",
   "metadata": {},
   "source": [
    "Purpose:\n",
    "\n",
    "This file aims to answer Question 4 through simple queries.\n",
    "\n",
    "This file contains some queries Oleksandra requested. Given that you have completed a certain level from a sequence (ex: \"N1\" from JLPT, \"grade 6\" from school, or level \"50\" from WaniKani) what are the next kanji you should learn (the most frequent in the following level/s)?\n",
    "\n",
    "Input:\n",
    "\n",
    "cleaned_link.csv \n",
    "This file contains information for the 2136 Jōyō kanji. This program uses the difficulty levels and basic Jisho frequency information. \n",
    "\n",
    "Output:\n",
    "\n",
    "Tells the user which kanjis to learn next. Inline output, no csvs. "
   ]
  },
  {
   "cell_type": "code",
   "execution_count": 2,
   "metadata": {},
   "outputs": [],
   "source": [
    "import pandas as pd\n",
    "import matplotlib.pyplot as plt\n",
    "from numpy import isnan"
   ]
  },
  {
   "cell_type": "code",
   "execution_count": 3,
   "metadata": {},
   "outputs": [],
   "source": [
    "filename = \"../Question1/cleaned_link.csv\"\n",
    "df = pd.read_csv(filename)"
   ]
  },
  {
   "cell_type": "code",
   "execution_count": 4,
   "metadata": {},
   "outputs": [
    {
     "name": "stdout",
     "output_type": "stream",
     "text": [
      "['junior high' 'grade 4' 'grade 3' 'grade 5' 'grade 6' 'grade 1' 'grade 2'\n",
      " nan]\n",
      "[ 3.  4.  5.  6.  7.  8.  9. 10. 11. 12. 13. 14. 15. 16. 17. 18. 19. 20.\n",
      " 21. 22. 23. nan]\n",
      "21 possible valid values.\n"
     ]
    }
   ],
   "source": [
    "#We will need to translate between strings representing levels and easy-to-compare numbers\n",
    "\n",
    "intIsJustItself = lambda x: x\n",
    "\n",
    "#Low N# means higher level. Scale of N5 to N1. \n",
    "JLPT_levels = 5\n",
    "levelValues = {\"N\"+str(i): (JLPT_levels+1)-i for i in range(1, JLPT_levels+1)}\n",
    "levelValues[\"none\"] = 0 #'none' is support for the queries at the end of this file\n",
    "def translateJLPT(levelStr):\n",
    "    try:\n",
    "        return levelValues[levelStr]\n",
    "    except:\n",
    "        return float('nan')\n",
    "print(df[\"grade\"].unique())\n",
    "gradeLevels = {\n",
    "              'none': 0, #'none' is support for the queries at the end of this file\n",
    "              'grade 1': 1,\n",
    "              'grade 2': 2,\n",
    "              'grade 3': 3,\n",
    "              'grade 4': 4,\n",
    "              'grade 5': 5,\n",
    "              'grade 6': 6,\n",
    "              'junior high': 7,\n",
    "              }\n",
    "def translateGradeLevel(levelStr):\n",
    "    try:\n",
    "        return gradeLevels[levelStr]\n",
    "    except:\n",
    "        return float('nan')\n",
    "\n",
    "possibleGenkiValues = df[\"Genki_Lesson\"].unique()\n",
    "possibleGenkiValues.sort()\n",
    "print(possibleGenkiValues)\n",
    "\n",
    "genki_levels = 0\n",
    "for value in df[\"Genki_Lesson\"].unique():\n",
    "    if(not isnan(value)):\n",
    "        genki_levels += 1\n",
    "print(genki_levels, \"possible valid values.\")\n",
    "#It looks like there is no lesson before lesson 3. A consequence of our source?\n",
    "#http://genki.japantimes.co.jp/self/genki-kanji-list-linked-to-wwkanji\n",
    "#We need level numbers to be 1..genki_levels, inclusive\n",
    "def translateGenki(x):\n",
    "    try:\n",
    "        return x-2\n",
    "    except:\n",
    "        return float('nan')"
   ]
  },
  {
   "cell_type": "code",
   "execution_count": 5,
   "metadata": {},
   "outputs": [],
   "source": [
    "#Sequence is what you're learning, like jlpt or Genki_Lessons or wanikani_Level\n",
    "#Translator translates that sequence's levels like \"N1\" into number ranks.\n",
    "#numberToGet is how many kanji from the next level to return\n",
    "def getNextInSquence(sequence, level, translator, numberToGet):\n",
    "    #Frequency is the frequency from Jisho\n",
    "    col = zip(df[\"kanji\"], df[sequence], df[\"frequency\"])\n",
    "    \n",
    "    colAboveLevel = []\n",
    "    previouslyCompletedLevel = translator(level)\n",
    "    #The column is now created by index, and the index is from Joyo.\n",
    "    for (kanji, levelInSequence, freq) in col:\n",
    "        numericLevelInSequence = translator(levelInSequence)\n",
    "        #If you wanted to retrieve data from the current as well as any higher level, just make this >=\n",
    "        if(numericLevelInSequence > previouslyCompletedLevel):\n",
    "            colAboveLevel.append((kanji, levelInSequence, numericLevelInSequence, freq))\n",
    "    #Now we sort by the numeric level (Can't sort by string level, N1 is harder than N2), \n",
    "    #    so that we give them the next hardest kanji instead of any harder kanji. \n",
    "    colAboveLevel.sort(key=lambda tup: tup[2])\n",
    "    \n",
    "    if(len(colAboveLevel) == 0 ):\n",
    "        return []\n",
    "    \n",
    "    for index in range(len(colAboveLevel)):\n",
    "        #min(len(colAboveLevel), bounds[nextBound]), \n",
    "        (_,_, numericLevelInSequenceCurrent, freqCurrent) = colAboveLevel[index]\n",
    "        #Frequency is a rank so lower is more frequent\n",
    "        indexLeft = index\n",
    "        #Debug, see how many swaps this kanji has done\n",
    "        num = 0\n",
    "        while indexLeft > 0:\n",
    "            indexLeft -= 1\n",
    "            (_,_, numericLevelInSequenceLeft, freqLeft) = colAboveLevel[indexLeft]\n",
    "            #We're sorted by level so if our levels are unequal then we are done (only sorting within levels)\n",
    "            #I consider NaN frequencies to be high frequency rank (infrequent), \n",
    "            #    since it'd make sense for a more obscure kanji to not have a frequency rating\n",
    "            if((freqLeft > freqCurrent or isnan(freqLeft)) and numericLevelInSequenceCurrent == numericLevelInSequenceLeft):\n",
    "                #Swap\n",
    "                #print(\"Swapping\", colAboveLevel[indexLeft], colAboveLevel[index], \"b/c\", freqLeft, \">\",freqCurrent,\"num=\",num)\n",
    "                num += 1\n",
    "                tmp = colAboveLevel[index]\n",
    "                colAboveLevel[index] = colAboveLevel[indexLeft]\n",
    "                colAboveLevel[indexLeft] = tmp\n",
    "                index -= 1\n",
    "                #print(colAboveLevel[:5])\n",
    "            else:\n",
    "                #print(\"not swapping \",colAboveLevel[indexLeft], colAboveLevel[index])\n",
    "                break\n",
    "    #print(\"returning \",numberToGet,\"of\", len(colAboveLevel))\n",
    "    return colAboveLevel[:numberToGet]"
   ]
  },
  {
   "cell_type": "code",
   "execution_count": 6,
   "metadata": {},
   "outputs": [],
   "source": [
    "def getMoreWani(level, numberToGet):\n",
    "    #Actual col name in the dataframe\n",
    "    sequence = \"wanikani_level\"\n",
    "    #Values in the dataframe may not be ints, so the translator is required. \n",
    "    #But for WaniKani, it is just ints\n",
    "    translator = intIsJustItself\n",
    "    return getNextInSquence(sequence, level, translator, numberToGet)\n",
    "def getMoreGrade(level, numberToGet):\n",
    "    #Actual col name in the dataframe\n",
    "    sequence = \"grade\"\n",
    "    #Values in the dataframe may not be ints, so the translator is required. \n",
    "    translator = translateGradeLevel\n",
    "    return getNextInSquence(sequence, level, translator, numberToGet)\n",
    "def getMoreJLPT(level, numberToGet):\n",
    "    #Actual col name in the dataframe\n",
    "    sequence = \"jlpt\"\n",
    "    #Values in the dataframe may not be ints, so the translator is required. \n",
    "    translator = translateJLPT\n",
    "    return getNextInSquence(sequence, level, translator, numberToGet)\n",
    "def getMoreGenki(level, numberToGet):\n",
    "    #Actual col name in the dataframe\n",
    "    sequence = \"Genki_Lesson\"\n",
    "    #Values in the dataframe may not be ints, so the translator is required. \n",
    "    translator = translateGenki\n",
    "    return getNextInSquence(sequence, level, translator, numberToGet)\n",
    "\n",
    "#Takes the name of the sequence you're learning, the level you last completed, and how many kanji you want to get.\n",
    "#Returns a tuple: (kanji, level string, level number)\n",
    "def getMore(sequenceName, lastCompletedLevel, numberToGet):\n",
    "    if(numberToGet <= 0):\n",
    "        return []\n",
    "    sequenceName = sequenceName.lower()\n",
    "    if(sequenceName == \"wanikani\"):\n",
    "        return getMoreWani(lastCompletedLevel, numberToGet)\n",
    "    if(sequenceName == \"grade\" or sequenceName == \"grade level\"):\n",
    "        return getMoreGrade(lastCompletedLevel, numberToGet)\n",
    "    if(sequenceName == \"jlpt\"):\n",
    "        return getMoreJLPT(lastCompletedLevel, numberToGet)\n",
    "    if(sequenceName == \"genki\"):\n",
    "        return getMoreGenki(lastCompletedLevel, numberToGet)\n",
    "    raise ValueError('No sequence found with name '+sequenceName)"
   ]
  },
  {
   "cell_type": "markdown",
   "metadata": {},
   "source": [
    "For all of these queries you are saying the level you last completed, and getting stuff from the next level. \n",
    "\n",
    "The results are currently sorted by both level and frequency within each level (if the next level contains 40 kanjis and you request 50, you'll get 40 from the next level and 10 most frequent from the level above that).\n",
    "\n",
    "To retrieve kanji starting at the first level, for the previously completed level pass in 0 for numeric levels, or the string \"none\" for string-based levels.\n",
    "\n",
    "Giving the final level or invalid input, the result should be empty. \n",
    "\n",
    "Results are a list, where each element is the tuple (kanji, level, numericLevel, frequency)"
   ]
  },
  {
   "cell_type": "code",
   "execution_count": 7,
   "metadata": {},
   "outputs": [
    {
     "name": "stdout",
     "output_type": "stream",
     "text": [
      "[('塚', 51.0, 51.0, 869.0), ('邸', 51.0, 51.0, 905.0), ('郡', 51.0, 51.0, 965.0), ('浦', 51.0, 51.0, 977.0), ('釈', 51.0, 51.0, 1097.0)]\n",
      "[('一', 1.0, 1.0, 2.0), ('人', 1.0, 1.0, 5.0), ('大', 1.0, 1.0, 7.0), ('十', 1.0, 1.0, 8.0), ('二', 1.0, 1.0, 9.0)]\n",
      "[]\n"
     ]
    }
   ],
   "source": [
    "mostRecentlyCompletedLevel = 50\n",
    "numberToGet = 5\n",
    "print(getMore(\"WaniKani\", mostRecentlyCompletedLevel, numberToGet))\n",
    "#Should give results from the first level since this is from before the first level\n",
    "print(getMore(\"WaniKani\", 0, numberToGet))\n",
    "#Should give nothing\n",
    "print(getMore(\"WaniKani\", 60, numberToGet))"
   ]
  },
  {
   "cell_type": "code",
   "execution_count": 8,
   "metadata": {},
   "outputs": [
    {
     "name": "stdout",
     "output_type": "stream",
     "text": [
      "[('歳', 'junior high', 7, 269.0), ('企', 'junior high', 7, 278.0), ('藤', 'junior high', 7, 291.0), ('沢', 'junior high', 7, 296.0), ('与', 'junior high', 7, 308.0)]\n",
      "[('日', 'grade 1', 1, 1.0), ('一', 'grade 1', 1, 2.0), ('人', 'grade 1', 1, 5.0), ('年', 'grade 1', 1, 6.0), ('大', 'grade 1', 1, 7.0)]\n",
      "[]\n"
     ]
    }
   ],
   "source": [
    "mostRecentlyCompletedLevel = \"grade 6\"\n",
    "print(getMore(\"grade\", mostRecentlyCompletedLevel, numberToGet))\n",
    "#Additional tests.\n",
    "print(getMore(\"grade\", \"none\", numberToGet))\n",
    "print(getMore(\"grade\", \"junior high\", numberToGet))"
   ]
  },
  {
   "cell_type": "code",
   "execution_count": 9,
   "metadata": {},
   "outputs": [
    {
     "name": "stdout",
     "output_type": "stream",
     "text": [
      "[('党', 'N2', 4, 39.0), ('協', 'N2', 4, 121.0), ('総', 'N2', 4, 129.0), ('区', 'N2', 4, 137.0), ('領', 'N2', 4, 138.0)]\n",
      "[('日', 'N5', 1, 1.0), ('一', 'N5', 1, 2.0), ('国', 'N5', 1, 3.0), ('人', 'N5', 1, 5.0), ('年', 'N5', 1, 6.0)]\n",
      "[]\n"
     ]
    }
   ],
   "source": [
    "mostRecentlyCompletedLevel = \"N3\"\n",
    "print(getMore(\"jlpt\", mostRecentlyCompletedLevel, numberToGet))\n",
    "#Additional tests.\n",
    "print(getMore(\"jlpt\", \"none\", numberToGet))\n",
    "print(getMore(\"jlpt\", \"N1\", numberToGet))"
   ]
  },
  {
   "cell_type": "code",
   "execution_count": 10,
   "metadata": {},
   "outputs": [
    {
     "name": "stdout",
     "output_type": "stream",
     "text": [
      "[('市', 11.0, 9.0, 42.0), ('手', 11.0, 9.0, 60.0), ('明', 11.0, 9.0, 67.0), ('強', 11.0, 9.0, 112.0), ('院', 11.0, 9.0, 150.0)]\n",
      "[('一', 3.0, 1.0, 2.0), ('十', 3.0, 1.0, 8.0), ('二', 3.0, 1.0, 9.0), ('三', 3.0, 1.0, 14.0), ('時', 3.0, 1.0, 16.0)]\n",
      "[]\n"
     ]
    }
   ],
   "source": [
    "mostRecentlyCompletedLevel = 10\n",
    "print(getMore(\"genki\", mostRecentlyCompletedLevel, numberToGet))\n",
    "#Additional tests.\n",
    "#The level information we have starts at 3, so 2 or lower should be invalid and give the fist stuff (3).\n",
    "print(getMore(\"genki\", 1, numberToGet))\n",
    "print(getMore(\"genki\", 24, numberToGet))"
   ]
  },
  {
   "cell_type": "code",
   "execution_count": 11,
   "metadata": {},
   "outputs": [],
   "source": [
    "#Tests for invalid input\n",
    "\n",
    "#Test with a nonexistant sequence, raises exception\n",
    "#print(getMore(\"badvalue\", 1, numberToGet))\n",
    "#Test with a nonexistant numeric level. Just gives first level if too small, empty [] if too large\n",
    "#print(getMore(\"genki\", -1, numberToGet))\n",
    "#Test with a nonexistant string level. Just gives []\n",
    "#print(getMore(\"jlpt\", \"level name\", numberToGet))\n",
    "#Test with invalid numberToGet, gives []\n",
    "#print(getMore(\"genki\", 1, -5))"
   ]
  },
  {
   "cell_type": "code",
   "execution_count": 12,
   "metadata": {},
   "outputs": [],
   "source": [
    "#This question also was originally written to ask for vocab. \n",
    "#Questions 1 & 2 contain information about readings and words with a given kanji, \n",
    "#    so whatever information is desired can be retrieved from there after using these queries.  "
   ]
  }
 ],
 "metadata": {
  "kernelspec": {
   "display_name": "Python 3",
   "language": "python",
   "name": "python3"
  },
  "language_info": {
   "codemirror_mode": {
    "name": "ipython",
    "version": 3
   },
   "file_extension": ".py",
   "mimetype": "text/x-python",
   "name": "python",
   "nbconvert_exporter": "python",
   "pygments_lexer": "ipython3",
   "version": "3.7.3"
  }
 },
 "nbformat": 4,
 "nbformat_minor": 2
}
