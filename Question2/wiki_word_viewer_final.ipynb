{
 "cells": [
  {
   "cell_type": "code",
   "execution_count": 1,
   "metadata": {},
   "outputs": [],
   "source": [
    "# Name of Creator\n",
    "CREATOR_NAME = \"Jingheng Wang\""
   ]
  },
  {
   "cell_type": "markdown",
   "metadata": {},
   "source": [
    "Similar to the previous question, we provided a \"viewer\" file to display our csv file as a human-reader-friendly format. This file takes the \"wikiword_table_new.csv\" and a kanji, displaying words in that 20K list using this kanji, and their readings/meanings."
   ]
  },
  {
   "cell_type": "code",
   "execution_count": 2,
   "metadata": {},
   "outputs": [],
   "source": [
    "# Initialization\n",
    "\n",
    "import numpy as np\n",
    "import pandas as pd\n",
    "\n",
    "def offline_init(k = None):\n",
    "    if (k is None):\n",
    "        _df_ = pd.read_csv(\"wikiword_table_new.csv\")[[\"word\", \"reading\", \"meaning\"]]\n",
    "    else:\n",
    "        _df_ = pd.read_csv(\"wikiword_table_{}.csv\".format(k))[[\"word\", \"reading\", \"meaning\"]]  \n",
    "        \n",
    "    _sr_ = pd.read_csv(\"wikitionary_wordlist.csv\")['word']\n",
    "    return (_df_, _sr_)\n",
    "\n",
    "# x is a given kanji\n",
    "def offline_find_word(_sr_, x):\n",
    "    #wlist = []\n",
    "    wlist = {}\n",
    "    wordlist_sep_char = [list(x) for x in _sr_]\n",
    "    for i, li in enumerate(wordlist_sep_char):\n",
    "        if (x in li):\n",
    "            #wlist.append(_sr_[i])\n",
    "            # Started from 0\n",
    "            wlist[i+1] = _sr_[i]\n",
    "    return wlist\n",
    "\n",
    "# xl is a list of words\n",
    "def offline_word_info(_df_, xl):\n",
    "    mask = np.array([False] * len(_df_[\"word\"]))\n",
    "    for i, x in enumerate(_df_['word']):\n",
    "        if x in xl:\n",
    "            mask[i]=True\n",
    "    return _df_[mask]\n"
   ]
  },
  {
   "cell_type": "code",
   "execution_count": 3,
   "metadata": {},
   "outputs": [],
   "source": [
    "# Modify me if you want to change the query kanji\n",
    "query_kanji = \"床\"\n",
    "\n",
    "# Sample Kanjis\n",
    "# 角 (angle / corner)\n",
    "# 食 (eat)\n",
    "# 目 (eye)\n",
    "# 床 (bed / floor)\n",
    "# 陸 (land)"
   ]
  },
  {
   "cell_type": "code",
   "execution_count": 4,
   "metadata": {},
   "outputs": [
    {
     "data": {
      "text/plain": [
       "{2424: '床', 5133: '臨床', 10507: '床下', 12774: '病床', 14797: '鉱床', 17101: '床面積'}"
      ]
     },
     "execution_count": 4,
     "metadata": {},
     "output_type": "execute_result"
    }
   ],
   "source": [
    "# Get all words using that kanji. Return a dictionary, the key is the word's position in 20K list, the value is the word itself.\n",
    "_df_, _sr_ = offline_init() \n",
    "_wl_ = offline_find_word(_sr_, query_kanji)\n",
    "_wl_"
   ]
  },
  {
   "cell_type": "code",
   "execution_count": 5,
   "metadata": {},
   "outputs": [
    {
     "data": {
      "text/html": [
       "<div>\n",
       "<style scoped>\n",
       "    .dataframe tbody tr th:only-of-type {\n",
       "        vertical-align: middle;\n",
       "    }\n",
       "\n",
       "    .dataframe tbody tr th {\n",
       "        vertical-align: top;\n",
       "    }\n",
       "\n",
       "    .dataframe thead th {\n",
       "        text-align: right;\n",
       "    }\n",
       "</style>\n",
       "<table border=\"1\" class=\"dataframe\">\n",
       "  <thead>\n",
       "    <tr style=\"text-align: right;\">\n",
       "      <th></th>\n",
       "      <th>word</th>\n",
       "      <th>reading</th>\n",
       "      <th>meaning</th>\n",
       "    </tr>\n",
       "  </thead>\n",
       "  <tbody>\n",
       "    <tr>\n",
       "      <td>3189</td>\n",
       "      <td>床</td>\n",
       "      <td>とこ</td>\n",
       "      <td>1. bed; bedding$2. sickbed$3. alcove$4. riverb...</td>\n",
       "    </tr>\n",
       "    <tr>\n",
       "      <td>3190</td>\n",
       "      <td>床</td>\n",
       "      <td>ゆか</td>\n",
       "      <td>1. floor$2. stage (for the narrator and the sh...</td>\n",
       "    </tr>\n",
       "    <tr>\n",
       "      <td>3191</td>\n",
       "      <td>床</td>\n",
       "      <td>しょう</td>\n",
       "      <td>1. counter for beds$</td>\n",
       "    </tr>\n",
       "    <tr>\n",
       "      <td>3192</td>\n",
       "      <td>床</td>\n",
       "      <td>ゆか</td>\n",
       "      <td>1. Yuka$</td>\n",
       "    </tr>\n",
       "    <tr>\n",
       "      <td>6271</td>\n",
       "      <td>臨床</td>\n",
       "      <td>りんしょう</td>\n",
       "      <td>1. clinical (e.g. pathology, physiology)$</td>\n",
       "    </tr>\n",
       "    <tr>\n",
       "      <td>11778</td>\n",
       "      <td>床下</td>\n",
       "      <td>ゆかした</td>\n",
       "      <td>1. under the floor$</td>\n",
       "    </tr>\n",
       "    <tr>\n",
       "      <td>13960</td>\n",
       "      <td>病床</td>\n",
       "      <td>びょうしょう</td>\n",
       "      <td>1. sickbed; (hospital) bed$</td>\n",
       "    </tr>\n",
       "    <tr>\n",
       "      <td>15829</td>\n",
       "      <td>鉱床</td>\n",
       "      <td>こうしょう</td>\n",
       "      <td>1. mineral deposit; ore deposit$2. Deposition ...</td>\n",
       "    </tr>\n",
       "    <tr>\n",
       "      <td>17806</td>\n",
       "      <td>床面積</td>\n",
       "      <td>ゆかめんせき</td>\n",
       "      <td>1. floor space$</td>\n",
       "    </tr>\n",
       "  </tbody>\n",
       "</table>\n",
       "</div>"
      ],
      "text/plain": [
       "      word reading                                            meaning\n",
       "3189     床      とこ  1. bed; bedding$2. sickbed$3. alcove$4. riverb...\n",
       "3190     床      ゆか  1. floor$2. stage (for the narrator and the sh...\n",
       "3191     床     しょう                               1. counter for beds$\n",
       "3192     床      ゆか                                           1. Yuka$\n",
       "6271    臨床   りんしょう          1. clinical (e.g. pathology, physiology)$\n",
       "11778   床下    ゆかした                                1. under the floor$\n",
       "13960   病床  びょうしょう                        1. sickbed; (hospital) bed$\n",
       "15829   鉱床   こうしょう  1. mineral deposit; ore deposit$2. Deposition ...\n",
       "17806  床面積  ゆかめんせき                                    1. floor space$"
      ]
     },
     "execution_count": 5,
     "metadata": {},
     "output_type": "execute_result"
    }
   ],
   "source": [
    "# Display the data frame containing: all related words, their readings, and their meanings\n",
    "offline_word_info(_df_, _wl_.values())\n",
    "\n",
    "# If some words are not shown here, it is because they do not have a webpage on jisho dictionary."
   ]
  },
  {
   "cell_type": "code",
   "execution_count": null,
   "metadata": {},
   "outputs": [],
   "source": []
  }
 ],
 "metadata": {
  "kernelspec": {
   "display_name": "Python 3",
   "language": "python",
   "name": "python3"
  },
  "language_info": {
   "codemirror_mode": {
    "name": "ipython",
    "version": 3
   },
   "file_extension": ".py",
   "mimetype": "text/x-python",
   "name": "python",
   "nbconvert_exporter": "python",
   "pygments_lexer": "ipython3",
   "version": "3.7.4"
  }
 },
 "nbformat": 4,
 "nbformat_minor": 2
}
